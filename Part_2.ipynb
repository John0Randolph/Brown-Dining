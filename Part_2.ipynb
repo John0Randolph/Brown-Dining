{
 "cells": [
  {
   "cell_type": "code",
   "execution_count": 1,
   "metadata": {},
   "outputs": [
    {
     "name": "stdout",
     "output_type": "stream",
     "text": [
      "{'finished': 9765, 'total': 10000, 'steps_to_finish': 248404}\n"
     ]
    }
   ],
   "source": [
    "from random import randint\n",
    "\n",
    "def run1d():\n",
    "    Origin = 0\n",
    "    X = Origin\n",
    "    n = 0\n",
    "    \n",
    "    def move1d(X):\n",
    "        r = randint(0,1)\n",
    "        if(r==0): return X - 1\n",
    "        return X + 1\n",
    "    while True:\n",
    "        X = move1d(X)\n",
    "        n+=1\n",
    "        if(X == Origin): return {\"finished\": True, \"steps\": n}\n",
    "        if(n > 1000): return {\"finished\": False, \"steps\": n}\n",
    "\n",
    "runs = 10000\n",
    "steps = 0\n",
    "results = {\"finished\": 0, \"total\": 0, \"steps_to_finish\": 0}\n",
    "for i in range(0, runs):\n",
    "    result = run1d()\n",
    "    if(result[\"finished\"]==True): \n",
    "        results[\"finished\"]+=1\n",
    "        results[\"steps_to_finish\"]+=result[\"steps\"]\n",
    "    results[\"total\"]+=1\n",
    "\n",
    "#print('Ran for '+runs+' runs, averaging n='+steps/10000+' steps.')\n",
    "print(results)"
   ]
  },
  {
   "cell_type": "code",
   "execution_count": 44,
   "metadata": {},
   "outputs": [
    {
     "name": "stdout",
     "output_type": "stream",
     "text": [
      "{'finished': 7315, 'total': 10000, 'steps_to_finish': 2554190}\n"
     ]
    }
   ],
   "source": [
    "def run2d():\n",
    "    Origin = [0, 0]\n",
    "    X = Origin.copy()\n",
    "    n = 0\n",
    "    def move2d(X):\n",
    "        rX = randint(0,1)\n",
    "        rY = randint(0,1)\n",
    "        if(rX == 0): X[0]+=1\n",
    "        else: X[0]-=1\n",
    "        if(rY == 0): X[1]+=1\n",
    "        else: X[1]-=1\n",
    "        return X\n",
    "    while True:\n",
    "        X = move2d(X)\n",
    "        n+=1\n",
    "        if(X == Origin): return {\"finished\": True, \"steps\": n}\n",
    "        if(n > 10000): return {\"finished\": False, \"steps\": n}\n",
    "runs = 10000\n",
    "steps = 0\n",
    "results = {\"finished\": 0, \"total\": 0, \"steps_to_finish\": 0}\n",
    "for i in range(0, runs):\n",
    "    result = run2d()\n",
    "    if(result[\"finished\"]==True): \n",
    "        results[\"finished\"]+=1\n",
    "        results[\"steps_to_finish\"]+=result[\"steps\"]\n",
    "    results[\"total\"]+=1\n",
    "\n",
    "#print('Ran for '+runs+' runs, averaging n='+steps/10000+' steps.')\n",
    "print(results)"
   ]
  },
  {
   "cell_type": "code",
   "execution_count": 46,
   "metadata": {},
   "outputs": [
    {
     "name": "stdout",
     "output_type": "stream",
     "text": [
      "{'finished': 2824, 'total': 10000, 'steps_to_finish': 266702}\n"
     ]
    }
   ],
   "source": [
    "def run3d():\n",
    "    Origin = [0, 0, 0]\n",
    "    X = Origin.copy()\n",
    "    n = 0\n",
    "    def move3d(X):\n",
    "        rX = randint(0,1)\n",
    "        rY = randint(0,1)\n",
    "        rZ = randint(0,1)\n",
    "        if(rX == 0): X[0]+=1\n",
    "        else: X[0]-=1\n",
    "        if(rY == 0): X[1]+=1\n",
    "        else: X[1]-=1\n",
    "        if(rZ == 0): X[2]+=1\n",
    "        else: X[2]-=1\n",
    "        return X\n",
    "    while True:\n",
    "        X = move3d(X)\n",
    "        n+=1\n",
    "        if(X == Origin): return {\"finished\": True, \"steps\": n}\n",
    "        if(n > 10000): return {\"finished\": False, \"steps\": n}\n",
    "runs = 10000\n",
    "steps = 0\n",
    "results = {\"finished\": 0, \"total\": 0, \"steps_to_finish\": 0}\n",
    "for i in range(0, runs):\n",
    "    result = run3d()\n",
    "    if(result[\"finished\"]==True): \n",
    "        results[\"finished\"]+=1\n",
    "        results[\"steps_to_finish\"]+=result[\"steps\"]\n",
    "    results[\"total\"]+=1\n",
    "\n",
    "#print('Ran for '+runs+' runs, averaging n='+steps/10000+' steps.')\n",
    "print(results)\n"
   ]
  },
  {
   "cell_type": "code",
   "execution_count": null,
   "metadata": {},
   "outputs": [],
   "source": []
  }
 ],
 "metadata": {
  "kernelspec": {
   "display_name": "Python 3",
   "language": "python",
   "name": "python3"
  },
  "language_info": {
   "codemirror_mode": {
    "name": "ipython",
    "version": 3
   },
   "file_extension": ".py",
   "mimetype": "text/x-python",
   "name": "python",
   "nbconvert_exporter": "python",
   "pygments_lexer": "ipython3",
   "version": "3.7.2"
  }
 },
 "nbformat": 4,
 "nbformat_minor": 2
}
